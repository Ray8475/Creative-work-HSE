{
  "metadata": {
    "kernelspec": {
      "name": "python",
      "display_name": "Python (Pyodide)",
      "language": "python"
    },
    "language_info": {
      "codemirror_mode": {
        "name": "python",
        "version": 3
      },
      "file_extension": ".py",
      "mimetype": "text/x-python",
      "name": "python",
      "nbconvert_exporter": "python",
      "pygments_lexer": "ipython3",
      "version": "3.8"
    }
  },
  "nbformat_minor": 4,
  "nbformat": 4,
  "cells": [
    {
      "cell_type": "markdown",
      "source": "Анализ данных — это процесс извлечения информации из больших объемов данных, который помогает выявлять закономерности и тренды. Важным этапом является визуализация данных, позволяющая представить информацию в графиках и диаграммах, что делает её более доступной и понятной. Библиотека Bokeh для Python является мощным инструментом для создания интерактивных визуализаций без необходимости глубоких знаний в веб-разработке. Она предлагает широкий спектр графиков и настраиваемых параметров, позволяя адаптировать визуализации под конкретные нужды. Bokeh также поддерживает создание комплексных решений и дашбордов, объединяя несколько графиков и диаграмм, что делает анализ данных более информативным.\nДля начала установим Bokeh",
      "metadata": {}
    },
    {
      "cell_type": "code",
      "source": "pip install bokeh",
      "metadata": {
        "trusted": true
      },
      "outputs": [],
      "execution_count": null
    },
    {
      "cell_type": "markdown",
      "source": "Линейные графики — это популярный инструмент для визуализации данных, который помогает отображать зависимость между двумя непрерывными переменными. Они позволяют легко выявлять тренды, паттерны и изменения в данных. В следующем шаге будет представлен процесс создания простого линейного графика с использованием библиотеки Bokeh, начиная с импорта необходимых модулей.",
      "metadata": {}
    },
    {
      "cell_type": "code",
      "source": "from bokeh.plotting import figure, output_file, show",
      "metadata": {
        "trusted": true
      },
      "outputs": [],
      "execution_count": 8
    },
    {
      "cell_type": "markdown",
      "source": "Здесь мы импортируем figure для создания графической фигуры, output_file для указания имени файла для сохранения графика и show для отображения графика в браузере. Далее, мы можем создать фигуру и добавить на нее данные:",
      "metadata": {}
    },
    {
      "cell_type": "markdown",
      "source": "Создание графической фигуры:",
      "metadata": {}
    },
    {
      "cell_type": "code",
      "source": "p = figure(title='Пример линейного графика', x_axis_label='X-ось', y_axis_label='Y-ось')",
      "metadata": {
        "trusted": true
      },
      "outputs": [],
      "execution_count": null
    },
    {
      "cell_type": "markdown",
      "source": "Данные для графика:",
      "metadata": {}
    },
    {
      "cell_type": "code",
      "source": "x = [-3, -2, -1, 0, 1]\ny = [9, 4, 1, 5, 3]",
      "metadata": {
        "trusted": true
      },
      "outputs": [],
      "execution_count": null
    },
    {
      "cell_type": "markdown",
      "source": "Добавление линии на график:",
      "metadata": {}
    },
    {
      "cell_type": "code",
      "source": "p.line(x, y, legend_label='Линия', line_width=2)",
      "metadata": {
        "trusted": true
      },
      "outputs": [],
      "execution_count": null
    },
    {
      "cell_type": "markdown",
      "source": "Отображение графика:",
      "metadata": {}
    },
    {
      "cell_type": "code",
      "source": "output_file('линейный_график.html')\nshow(p)",
      "metadata": {
        "trusted": true
      },
      "outputs": [],
      "execution_count": null
    },
    {
      "cell_type": "markdown",
      "source": "Теперь соберём весь код вместе:",
      "metadata": {}
    },
    {
      "cell_type": "code",
      "source": "from bokeh.plotting import figure, output_file, show\n# Создание графической фигуры\np = figure(title='Пример линейного графика', x_axis_label='X-ось', y_axis_label='Y-ось')\n\n# Данные для графика\nx = [1, 2, 3, 4, 5]\ny = [6, 7, 2, 4, 5]\n\n# Добавление линии на график\np.line(x, y, legend_label='Линия', line_width=2)\n\n# Отображение графика\noutput_file('линейный_график.html')\nshow(p)",
      "metadata": {
        "trusted": true
      },
      "outputs": [],
      "execution_count": null
    },
    {
      "cell_type": "markdown",
      "source": "Чтобы сделать график более информативным и читаемым, важно правильно настроить оси, метки и заголовки. Bokeh предоставляет обширный набор инструментов для настройки всех этих аспектов:",
      "metadata": {},
      "attachments": {}
    },
    {
      "cell_type": "code",
      "source": "# Настройка осей и меток\np.xaxis.axis_label = 'Время'\np.yaxis.axis_label = 'Значение'\n\n# Настройка заголовка\np.title.text = 'Пример линейного графика с настроенными осями и заголовком'\np.title.text_font_size = '16pt'",
      "metadata": {
        "trusted": true
      },
      "outputs": [],
      "execution_count": null
    },
    {
      "cell_type": "markdown",
      "source": "Здесь мы задаем метки для осей x и y с помощью axis_label, а также настраиваем заголовок с помощью title.text и title.text_font_size.",
      "metadata": {}
    },
    {
      "cell_type": "markdown",
      "source": "Чтобы сделать ваши графики более наглядными и разнообразными, вы можете использовать различные стили линий и маркеров. Bokeh предоставляет множество опций для настройки внешнего вида ваших графиков.",
      "metadata": {}
    },
    {
      "cell_type": "code",
      "source": "from bokeh.plotting import figure, output_file, show\n# Создание графической фигуры\np = figure(title='Пример графика с разными стилями линий и маркеров')\n\n# Данные для графика\nx = [-5, -3, -2, -1, 6]\ny1 = [5, 4, 3, 2, 1]\ny2 = [8, 7, 6, 5, 3]\n\n# Добавление линий с разными стилями\np.line(x, y1, legend_label='Линия 1', line_color='blue', line_width=2)\np.line(x, y2, legend_label='Линия 2', line_color='red', line_dash='dashed', line_width=2)\n\n# Добавление маркеров\np.circle(x, y1, legend_label='Маркеры 1', fill_color='white', size=8)\np.square(x, y2, legend_label='Маркеры 2', fill_color='black', size=8)\n\n# Отображение графика\noutput_file('стили_графика.html')\nshow(p)",
      "metadata": {
        "trusted": true
      },
      "outputs": [],
      "execution_count": null
    },
    {
      "cell_type": "markdown",
      "source": "Создание столбчатых диаграмм для анализа категориальных данных\n\nСтолбчатые диаграммы – это прекрасный инструмент для визуализации категориальных данных, таких как категории продуктов, регионы, временные периоды и многое другое. Они позволяют наглядно сравнивать значения разных категорий, что делает их незаменимыми для анализа и сравнения данных.\n\nЧтобы создать столбчатую диаграмму с использованием Bokeh, мы можем использовать функцию vbar. Давайте рассмотрим пример:",
      "metadata": {}
    },
    {
      "cell_type": "code",
      "source": "from bokeh.plotting import figure, output_file, show\n\n# Создание графической фигуры\np = figure(x_range=['A', 'B', 'C', 'D'], title='Пример столбчатой диаграммы', x_axis_label='Категории', y_axis_label='Значения')\n\n# Данные для диаграммы\ncategories = ['A', 'B', 'C', 'D']\nvalues = [10, 25, 15, 30]\n\n# Добавление столбцов\np.vbar(x=categories, top=values, width=0.5, color='blue')\n\n# Отображение графика\noutput_file('столбчатая_диаграмма.html')\nshow(p)",
      "metadata": {
        "trusted": true
      },
      "outputs": [],
      "execution_count": null
    },
    {
      "cell_type": "markdown",
      "source": "Здесь мы создаем графическую фигуру p и используем функцию vbar для добавления столбцов на диаграмму. Мы указываем значения для каждой категории с помощью аргумента top, а также задаем ширину столбцов и цвет.\n\nИспользование круговых диаграмм для отображения долей и процентных соотношений\nКруговые диаграммы предоставляют нам способ визуализации долей и процентных соотношений между различными категориями. Они позволяют наглядно увидеть, какая доля от общего целого приходится на каждую категорию.\n\nДля создания круговой диаграммы в Bokeh, нам нужно использовать метод wedge. Рассмотрим пример создания круговой диаграммы:",
      "metadata": {}
    },
    {
      "cell_type": "code",
      "source": "from math import pi\nfrom bokeh.plotting import figure, output_file, show\nfrom bokeh.transform import cumsum\nimport pandas as pd\n\n# Данные\ndata = pd.Series([0.25, 0.15, 0.3, 0.2], index=['A', 'B', 'C', 'D'])\n\n# Преобразование данных для круговой диаграммы\ndata = data.reset_index(name='value').rename(columns={'index': 'category'})\ndata['angle'] = data['value']/data['value'].sum() * 2*pi\ndata['color'] = ['#66c2a5', '#fc8d62', '#8da0cb', '#e78ac3']\n\n# Создание графической фигуры\np = figure(plot_height=350, title='Круговая диаграмма', toolbar_location=None,\n           tools=\"hover\", tooltips=\"@category: @value\", x_range=(-0.5, 1.0))\n\n# Добавление круговой диаграммы\np.wedge(x=0, y=1, radius=0.4,\n        start_angle=cumsum('angle', include_zero=True), end_angle=cumsum('angle'),\n        line_color=\"white\", fill_color='color', legend_field='category', source=data)\n\n# Отображение графика\noutput_file('круговая_диаграмма.html')\nshow(p)",
      "metadata": {
        "trusted": true
      },
      "outputs": [],
      "execution_count": null
    },
    {
      "cell_type": "markdown",
      "source": "В данном примере мы используем библиотеку pandas для удобной работы с данными. Мы задаем доли для каждой категории и преобразуем данные в формат, понятный для круговой диаграммы. Затем мы создаем графическую фигуру, используя метод wedge для добавления круговой диаграммы.",
      "metadata": {}
    },
    {
      "cell_type": "markdown",
      "source": "Гистограммы – это графический способ представления распределения данных по различным интервалам. Они помогают нам понять, как данные распределены по значению и выявить наличие аномалий или особенностей в данных.\n\nДля создания гистограммы в Bokeh, мы используем метод quad, который позволяет нам рисовать прямоугольники, представляющие интервалы данных. Рассмотрим пример создания гистограммы:",
      "metadata": {}
    },
    {
      "cell_type": "code",
      "source": "from math import pi\nfrom bokeh.plotting import figure, output_file, show\nfrom bokeh.transform import cumsum\nimport pandas as pd\n\n# Данные\ndata = pd.Series([0.25, 0.15, 0.3, 0.2], index=['A', 'B', 'C', 'D'])\n\n# Преобразование данных для круговой диаграммы\ndata = data.reset_index(name='value').rename(columns={'index': 'category'})\ndata['angle'] = data['value']/data['value'].sum() * 2*pi\ndata['color'] = ['#66c2a5', '#fc8d62', '#8da0cb', '#e78ac3']\n\n# Создание графической фигуры\np = figure(height=350, title='Круговая диаграмма', toolbar_location=None,\n           tools=\"hover\", tooltips=\"@category: @value\", x_range=(-1, 1))\n\n# Добавление круговой диаграммы\np.annular_wedge(x=0, y=1, inner_radius=0.3, outer_radius=0.7,\n                start_angle=cumsum('angle', include_zero=True), end_angle=cumsum('angle'),\n                line_color=\"white\", fill_color='color', legend_field='category', source=data)\n\n# Отображение графика\noutput_file('круговая_диаграмма.html')\nshow(p)",
      "metadata": {
        "trusted": true
      },
      "outputs": [],
      "execution_count": null
    },
    {
      "cell_type": "markdown",
      "source": "Работа с географическими данными\nДля добавления географических элементов на карту, мы можем использовать специальные функции и инструменты Bokeh:",
      "metadata": {}
    },
    {
      "cell_type": "code",
      "source": "from bokeh.plotting import figure, output_file, show\nfrom bokeh.tile_providers import get_provider\n# Данные\nlatitudes = [40.71, 34.05, 51.51]\nlongitudes = [-74.01, -118.24, -0.13]\n# Создание графической фигуры с тайловым фоном\ntile_provider = get_provider('CARTODBPOSITRON')\np = figure(x_range=(-2000000, 6000000), y_range=(-1000000, 7000000),\nx_axis_type='mercator', y_axis_type='mercator', title='Маркеры на карте')\np.add_tile(tile_provider)\n# Добавление маркеров на карту\np.circle(x=longitudes, y=latitudes, size=10, color='red')\n# Отображение карты с маркерами\noutput_file('карта_с_маркерами.html')\nshow(p)",
      "metadata": {
        "trusted": true
      },
      "outputs": [],
      "execution_count": null
    },
    {
      "cell_type": "markdown",
      "source": "Заключение\nBokeh может стать незаменимой вещью для людей, жаждущих визуализировать свои данные в виде диаграмм, графиков, гистограмм и т.д.\nДанная очень простая библиотека очень поможет нам в создании высококачественных графических решений, углубляющих наше понимание данных.",
      "metadata": {}
    }
  ]
}